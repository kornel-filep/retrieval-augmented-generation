{
 "cells": [
  {
   "cell_type": "code",
   "execution_count": 1,
   "id": "2344cab6-f2ca-4e2e-a904-b58813507844",
   "metadata": {},
   "outputs": [],
   "source": [
    "from dotenv import load_dotenv\n",
    "load_dotenv()\n",
    "\n",
    "import os\n",
    "from langchain_openai import ChatOpenAI\n",
    "from langchain_community.tools.tavily_search import TavilySearchResults\n",
    "from langgraph.prebuilt import create_react_agent\n",
    "from langchain_core.messages import HumanMessage\n",
    "from dotenv import load_dotenv\n",
    "\n",
    "OPEN_AI_API_KEY = os.getenv(\"OPEN_AI_API_KEY\")\n",
    "TAVILY_KEY = os.getenv(\"TAVILY_API_KEY\")"
   ]
  },
  {
   "cell_type": "code",
   "execution_count": 6,
   "id": "051dde86",
   "metadata": {},
   "outputs": [
    {
     "data": {
      "text/plain": [
       "\"I'm unable to provide real-time weather updates. To get the current weather in Debrecen, Hungary, I recommend checking a reliable weather website or app for the latest information.\""
      ]
     },
     "execution_count": 6,
     "metadata": {},
     "output_type": "execute_result"
    }
   ],
   "source": [
    "model = ChatOpenAI(model=\"gpt-4o-mini\", api_key=OPEN_AI_API_KEY)\n",
    "\n",
    "prompt = \"What is the weather now in Hungary, Debrecen?\"\n",
    "\n",
    "response = model.invoke([HumanMessage(content=prompt)])\n",
    "response.content\n"
   ]
  },
  {
   "cell_type": "markdown",
   "id": "a996dcc0",
   "metadata": {},
   "source": [
    "# Using the Tavily tool standalone"
   ]
  },
  {
   "cell_type": "code",
   "execution_count": 7,
   "id": "fdb57118",
   "metadata": {},
   "outputs": [
    {
     "data": {
      "text/plain": [
       "[{'url': 'https://www.weatherapi.com/',\n",
       "  'content': \"{'location': {'name': 'Debrecen', 'region': 'Debrecen', 'country': 'Hungary', 'lat': 47.5333, 'lon': 21.6333, 'tz_id': 'Europe/Budapest', 'localtime_epoch': 1732696125, 'localtime': '2024-11-27 09:28'}, 'current': {'last_updated_epoch': 1732695300, 'last_updated': '2024-11-27 09:15', 'temp_c': 3.4, 'temp_f': 38.1, 'is_day': 1, 'condition': {'text': 'Mist', 'icon': '//cdn.weatherapi.com/weather/64x64/day/143.png', 'code': 1030}, 'wind_mph': 2.5, 'wind_kph': 4.0, 'wind_degree': 197, 'wind_dir': 'SSW', 'pressure_mb': 1026.0, 'pressure_in': 30.3, 'precip_mm': 0.0, 'precip_in': 0.0, 'humidity': 93, 'cloud': 0, 'feelslike_c': 2.7, 'feelslike_f': 36.9, 'windchill_c': 4.0, 'windchill_f': 39.3, 'heatindex_c': 4.6, 'heatindex_f': 40.2, 'dewpoint_c': 2.3, 'dewpoint_f': 36.1, 'vis_km': 4.3, 'vis_miles': 2.0, 'uv': 0.1, 'gust_mph': 4.1, 'gust_kph': 6.6}}\"},\n",
       " {'url': 'https://hungaryweather.org/debrecen',\n",
       "  'content': \"Debrecen, Hungary Weather. Current: 15.95°C/60.71°F, Wind SW at 15.23 km/h, 72% Humidity, 0% Chance of rain. Debrecen, Hungary Weather; Current conditions; Weather forecast; Averages and extremes; Yesterday's Data; Temperature and possibility of rain in Debrecen over the next 12 hours;\"}]"
      ]
     },
     "execution_count": 7,
     "metadata": {},
     "output_type": "execute_result"
    }
   ],
   "source": [
    "tavily = TavilySearchResults(max_results=2)\n",
    "search_results = tavily.invoke(\"What is the weather now in Hungary, Debrecen?\")\n",
    "search_results"
   ]
  },
  {
   "cell_type": "markdown",
   "id": "4aa50c9d",
   "metadata": {},
   "source": [
    "# Using tools with a react agents"
   ]
  },
  {
   "cell_type": "code",
   "execution_count": 8,
   "id": "96b062c7",
   "metadata": {},
   "outputs": [
    {
     "data": {
      "text/plain": [
       "[HumanMessage(content='What is OOP?', additional_kwargs={}, response_metadata={}, id='3a2385f6-148f-42d1-ae98-d756c2aa73df'),\n",
       " AIMessage(content='Object-Oriented Programming (OOP) is a programming paradigm that uses \"objects\" to represent data and methods to manipulate that data. It is based on several key concepts:\\n\\n1. **Classes and Objects**: \\n   - A class is a blueprint for creating objects. It defines a type of object by encapsulating data (attributes) and functions (methods) that operate on the data.\\n   - An object is an instance of a class. It contains specific data and can use the methods defined by its class.\\n\\n2. **Encapsulation**: \\n   - This principle involves bundling the data (attributes) and methods (functions) that operate on the data into a single unit or class. Encapsulation also restricts direct access to some of an object\\'s components, which is a means of preventing unintended interference and misuse of the methods and data.\\n\\n3. **Inheritance**: \\n   - Inheritance allows a new class (called a child or subclass) to inherit attributes and methods from an existing class (called a parent or superclass). This promotes code reusability and establishes a hierarchical relationship between classes.\\n\\n4. **Polymorphism**: \\n   - Polymorphism allows methods to do different things based on the object it is acting upon, even if the method name is the same. This can be achieved through method overriding (where a subclass provides a specific implementation of a method that is already defined in its superclass) and method overloading (where multiple methods have the same name but differ in parameters).\\n\\n5. **Abstraction**: \\n   - Abstraction involves hiding complex implementation details and showing only the necessary features of an object. This helps in reducing programming complexity and increasing efficiency.\\n\\nOOP is widely used in programming languages such as Java, C++, Python, and C#. It helps in organizing code, making it more modular, easier to maintain, and reusable.', additional_kwargs={'refusal': None}, response_metadata={'token_usage': {'completion_tokens': 379, 'prompt_tokens': 84, 'total_tokens': 463, 'completion_tokens_details': {'audio_tokens': 0, 'reasoning_tokens': 0, 'accepted_prediction_tokens': 0, 'rejected_prediction_tokens': 0}, 'prompt_tokens_details': {'audio_tokens': 0, 'cached_tokens': 0}}, 'model_name': 'gpt-4o-mini-2024-07-18', 'system_fingerprint': 'fp_0705bf87c0', 'finish_reason': 'stop', 'logprobs': None}, id='run-1e70fb29-16ae-4e33-a6e8-482aed69aec1-0', usage_metadata={'input_tokens': 84, 'output_tokens': 379, 'total_tokens': 463, 'input_token_details': {'audio': 0, 'cache_read': 0}, 'output_token_details': {'audio': 0, 'reasoning': 0}})]"
      ]
     },
     "execution_count": 8,
     "metadata": {},
     "output_type": "execute_result"
    }
   ],
   "source": [
    "agent = create_react_agent(model, [tavily])\n",
    "\n",
    "prompt = \"What is OOP?\"\n",
    "\n",
    "response = agent.invoke({\"messages\": [HumanMessage(content=prompt)]})\n",
    "\n",
    "response[\"messages\"]"
   ]
  },
  {
   "cell_type": "markdown",
   "id": "8638617d",
   "metadata": {},
   "source": [
    "# Trying to do math without a calculator and only with an LLM"
   ]
  },
  {
   "cell_type": "code",
   "execution_count": 12,
   "id": "45bb4940",
   "metadata": {},
   "outputs": [
    {
     "data": {
      "text/plain": [
       "'18918728609628505345373'"
      ]
     },
     "execution_count": 12,
     "metadata": {},
     "output_type": "execute_result"
    }
   ],
   "source": [
    "agent = create_react_agent(model, [tavily])\n",
    "\n",
    "prompt = \"Multiply 12311231 with 15411414223. Respond only with the number, without any extra content or punctuation\"\n",
    "\n",
    "response = agent.invoke({\"messages\": [HumanMessage(content=prompt)]})\n",
    "\n",
    "response[\"messages\"][-1].content"
   ]
  },
  {
   "cell_type": "code",
   "execution_count": 14,
   "id": "07a50624",
   "metadata": {},
   "outputs": [
    {
     "name": "stdout",
     "output_type": "stream",
     "text": [
      "False\n",
      "correct result: 189733480536038513, returned result: 18918728609628505345373\n"
     ]
    }
   ],
   "source": [
    "result = int(response[\"messages\"][-1].content)\n",
    "correct_response = 12311231 * 15411414223\n",
    "print(correct_response == result)\n",
    "print(f'correct result: {correct_response}, returned result: {result}')"
   ]
  },
  {
   "cell_type": "markdown",
   "id": "e75a85ba",
   "metadata": {},
   "source": [
    "# Introducing our own tool to multiply numbers"
   ]
  },
  {
   "cell_type": "code",
   "execution_count": 15,
   "id": "797bfcdf",
   "metadata": {},
   "outputs": [],
   "source": [
    "from langchain_core.tools import tool\n",
    "\n",
    "@tool\n",
    "def multiply(a: int, b: int) -> int:\n",
    "   \"\"\"Multiply two numbers.\"\"\"\n",
    "   return a * b"
   ]
  },
  {
   "cell_type": "code",
   "execution_count": 16,
   "id": "6c175259",
   "metadata": {},
   "outputs": [
    {
     "data": {
      "text/plain": [
       "[HumanMessage(content='Multiply 12311231 with 15411414223. Respond only with the number, without any extra content or punctuation', additional_kwargs={}, response_metadata={}, id='f2159050-3526-4416-84c2-0680cde80304'),\n",
       " AIMessage(content='', additional_kwargs={'tool_calls': [{'id': 'call_0w42GU81dBhpcCf0GsTwAQ14', 'function': {'arguments': '{\"a\":12311231,\"b\":15411414223}', 'name': 'multiply'}, 'type': 'function'}], 'refusal': None}, response_metadata={'token_usage': {'completion_tokens': 22, 'prompt_tokens': 124, 'total_tokens': 146, 'completion_tokens_details': {'audio_tokens': 0, 'reasoning_tokens': 0, 'accepted_prediction_tokens': 0, 'rejected_prediction_tokens': 0}, 'prompt_tokens_details': {'audio_tokens': 0, 'cached_tokens': 0}}, 'model_name': 'gpt-4o-mini-2024-07-18', 'system_fingerprint': 'fp_0ba0d124f1', 'finish_reason': 'tool_calls', 'logprobs': None}, id='run-7d4cb1e7-6e39-4afd-b382-b274306aa431-0', tool_calls=[{'name': 'multiply', 'args': {'a': 12311231, 'b': 15411414223}, 'id': 'call_0w42GU81dBhpcCf0GsTwAQ14', 'type': 'tool_call'}], usage_metadata={'input_tokens': 124, 'output_tokens': 22, 'total_tokens': 146, 'input_token_details': {'audio': 0, 'cache_read': 0}, 'output_token_details': {'audio': 0, 'reasoning': 0}}),\n",
       " ToolMessage(content='189733480536038513', name='multiply', id='664024e4-fd3f-4893-a69b-f03256b90e72', tool_call_id='call_0w42GU81dBhpcCf0GsTwAQ14'),\n",
       " AIMessage(content='189733480536038513', additional_kwargs={'refusal': None}, response_metadata={'token_usage': {'completion_tokens': 7, 'prompt_tokens': 159, 'total_tokens': 166, 'completion_tokens_details': {'audio_tokens': 0, 'reasoning_tokens': 0, 'accepted_prediction_tokens': 0, 'rejected_prediction_tokens': 0}, 'prompt_tokens_details': {'audio_tokens': 0, 'cached_tokens': 0}}, 'model_name': 'gpt-4o-mini-2024-07-18', 'system_fingerprint': 'fp_0ba0d124f1', 'finish_reason': 'stop', 'logprobs': None}, id='run-b331f348-87e4-435e-892d-deaf3aebbb60-0', usage_metadata={'input_tokens': 159, 'output_tokens': 7, 'total_tokens': 166, 'input_token_details': {'audio': 0, 'cache_read': 0}, 'output_token_details': {'audio': 0, 'reasoning': 0}})]"
      ]
     },
     "execution_count": 16,
     "metadata": {},
     "output_type": "execute_result"
    }
   ],
   "source": [
    "agent = create_react_agent(model, [tavily, multiply])\n",
    "\n",
    "prompt = \"Multiply 12311231 with 15411414223. Respond only with the number, without any extra content or punctuation\"\n",
    "\n",
    "response = agent.invoke({\"messages\": [HumanMessage(content=prompt)]})\n",
    "\n",
    "response[\"messages\"]"
   ]
  },
  {
   "cell_type": "code",
   "execution_count": 17,
   "id": "2426211c",
   "metadata": {},
   "outputs": [
    {
     "name": "stdout",
     "output_type": "stream",
     "text": [
      "True\n",
      "correct result: 189733480536038513, returned result: 189733480536038513\n"
     ]
    }
   ],
   "source": [
    "result = int(response[\"messages\"][-1].content)\n",
    "correct_response = 12311231 * 15411414223\n",
    "print(correct_response == result)\n",
    "print(f'correct result: {correct_response}, returned result: {result}')"
   ]
  },
  {
   "cell_type": "code",
   "execution_count": null,
   "id": "988227de",
   "metadata": {},
   "outputs": [],
   "source": []
  }
 ],
 "metadata": {
  "kernelspec": {
   "display_name": "venv",
   "language": "python",
   "name": "python3"
  },
  "language_info": {
   "codemirror_mode": {
    "name": "ipython",
    "version": 3
   },
   "file_extension": ".py",
   "mimetype": "text/x-python",
   "name": "python",
   "nbconvert_exporter": "python",
   "pygments_lexer": "ipython3",
   "version": "3.12.7"
  }
 },
 "nbformat": 4,
 "nbformat_minor": 5
}
